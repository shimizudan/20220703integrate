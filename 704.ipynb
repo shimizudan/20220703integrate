{
 "cells": [
  {
   "cell_type": "code",
   "execution_count": 33,
   "metadata": {},
   "outputs": [
    {
     "data": {
      "text/latex": [
       "$\\frac{2 \\tan ^{-1}(x)}{x^2+1}$"
      ],
      "text/plain": [
       "W\"Times\"(2, W\"Power\"(W\"Plus\"(1, W\"Power\"(W\"x\", 2)), -1), W\"ArcTan\"(W\"x\"))"
      ]
     },
     "metadata": {},
     "output_type": "display_data"
    }
   ],
   "source": [
    "using MathLink,MathLinkExtras\n",
    "\n",
    "    weval(W`D[(ArcTan[x])^2,{x,1}]`)\n",
    "    "
   ]
  },
  {
   "cell_type": "code",
   "execution_count": 32,
   "metadata": {},
   "outputs": [
    {
     "data": {
      "text/latex": [
       "$\\frac{2}{\\left(x^2+1\\right)^2}-\\frac{4 x \\tan ^{-1}(x)}{\\left(x^2+1\\right)^2}$"
      ],
      "text/plain": [
       "W\"Plus\"(W\"Times\"(2, W\"Power\"(W\"Plus\"(1, W\"Power\"(W\"x\", 2)), -2)), W\"Times\"(-4, W\"x\", W\"Power\"(W\"Plus\"(1, W\"Power\"(W\"x\", 2)), -2), W\"ArcTan\"(W\"x\")))"
      ]
     },
     "metadata": {},
     "output_type": "display_data"
    }
   ],
   "source": [
    "weval(W`D[(ArcTan[x])^2,{x,2}]`)"
   ]
  },
  {
   "cell_type": "code",
   "execution_count": 34,
   "metadata": {},
   "outputs": [
    {
     "data": {
      "text/latex": [
       "$-\\frac{12 x}{\\left(x^2+1\\right)^3}+\\frac{16 x^2 \\tan ^{-1}(x)}{\\left(x^2+1\\right)^3}-\\frac{4 \\tan ^{-1}(x)}{\\left(x^2+1\\right)^2}$"
      ],
      "text/plain": [
       "W\"Plus\"(W\"Times\"(-12, W\"x\", W\"Power\"(W\"Plus\"(1, W\"Power\"(W\"x\", 2)), -3)), W\"Times\"(16, W\"Power\"(W\"x\", 2), W\"Power\"(W\"Plus\"(1, W\"Power\"(W\"x\", 2)), -3), W\"ArcTan\"(W\"x\")), W\"Times\"(-4, W\"Power\"(W\"Plus\"(1, W\"Power\"(W\"x\", 2)), -2), W\"ArcTan\"(W\"x\")))"
      ]
     },
     "metadata": {},
     "output_type": "display_data"
    }
   ],
   "source": [
    "weval(W`D[(ArcTan[x])^2,{x,3}]`)"
   ]
  },
  {
   "cell_type": "code",
   "execution_count": 35,
   "metadata": {},
   "outputs": [
    {
     "data": {
      "text/latex": [
       "$\\frac{88 x^2}{\\left(x^2+1\\right)^4}-\\frac{16}{\\left(x^2+1\\right)^3}+\\frac{48 x \\tan ^{-1}(x)}{\\left(x^2+1\\right)^3}-\\frac{96 x^3 \\tan ^{-1}(x)}{\\left(x^2+1\\right)^4}$"
      ],
      "text/plain": [
       "W\"Plus\"(W\"Times\"(88, W\"Power\"(W\"x\", 2), W\"Power\"(W\"Plus\"(1, W\"Power\"(W\"x\", 2)), -4)), W\"Times\"(-16, W\"Power\"(W\"Plus\"(1, W\"Power\"(W\"x\", 2)), -3)), W\"Times\"(-96, W\"Power\"(W\"x\", 3), W\"Power\"(W\"Plus\"(1, W\"Power\"(W\"x\", 2)), -4), W\"ArcTan\"(W\"x\")), W\"Times\"(48, W\"x\", W\"Power\"(W\"Plus\"(1, W\"Power\"(W\"x\", 2)), -3), W\"ArcTan\"(W\"x\")))"
      ]
     },
     "metadata": {},
     "output_type": "display_data"
    }
   ],
   "source": [
    "weval(W`D[(ArcTan[x])^2,{x,4}]`)"
   ]
  },
  {
   "cell_type": "code",
   "execution_count": 36,
   "metadata": {},
   "outputs": [
    {
     "data": {
      "text/latex": [
       "$\\frac{320 x}{\\left(x^2+1\\right)^4}-\\frac{576 x^2 \\tan ^{-1}(x)}{\\left(x^2+1\\right)^4}+\\frac{48 \\tan ^{-1}(x)}{\\left(x^2+1\\right)^3}+\\frac{768 x^4 \\tan ^{-1}(x)}{\\left(x^2+1\\right)^5}-\\frac{800 x^3}{\\left(x^2+1\\right)^5}$"
      ],
      "text/plain": [
       "W\"Plus\"(W\"Times\"(-800, W\"Power\"(W\"x\", 3), W\"Power\"(W\"Plus\"(1, W\"Power\"(W\"x\", 2)), -5)), W\"Times\"(320, W\"x\", W\"Power\"(W\"Plus\"(1, W\"Power\"(W\"x\", 2)), -4)), W\"Times\"(768, W\"Power\"(W\"x\", 4), W\"Power\"(W\"Plus\"(1, W\"Power\"(W\"x\", 2)), -5), W\"ArcTan\"(W\"x\")), W\"Times\"(-576, W\"Power\"(W\"x\", 2), W\"Power\"(W\"Plus\"(1, W\"Power\"(W\"x\", 2)), -4), W\"ArcTan\"(W\"x\")), W\"Times\"(48, W\"Power\"(W\"Plus\"(1, W\"Power\"(W\"x\", 2)), -3), W\"ArcTan\"(W\"x\")))"
      ]
     },
     "metadata": {},
     "output_type": "display_data"
    }
   ],
   "source": [
    "weval(W`D[(ArcTan[x])^2,{x,5}]`)"
   ]
  },
  {
   "cell_type": "code",
   "execution_count": 37,
   "metadata": {},
   "outputs": [
    {
     "data": {
      "text/latex": [
       "$-\\frac{5536 x^2}{\\left(x^2+1\\right)^5}+\\frac{368}{\\left(x^2+1\\right)^4}-\\frac{1440 x \\tan ^{-1}(x)}{\\left(x^2+1\\right)^4}-\\frac{7680 x^5 \\tan ^{-1}(x)}{\\left(x^2+1\\right)^6}+\\frac{8768 x^4}{\\left(x^2+1\\right)^6}+\\frac{7680 x^3 \\tan ^{-1}(x)}{\\left(x^2+1\\right)^5}$"
      ],
      "text/plain": [
       "W\"Plus\"(W\"Times\"(8768, W\"Power\"(W\"x\", 4), W\"Power\"(W\"Plus\"(1, W\"Power\"(W\"x\", 2)), -6)), W\"Times\"(-5536, W\"Power\"(W\"x\", 2), W\"Power\"(W\"Plus\"(1, W\"Power\"(W\"x\", 2)), -5)), W\"Times\"(368, W\"Power\"(W\"Plus\"(1, W\"Power\"(W\"x\", 2)), -4)), W\"Times\"(-7680, W\"Power\"(W\"x\", 5), W\"Power\"(W\"Plus\"(1, W\"Power\"(W\"x\", 2)), -6), W\"ArcTan\"(W\"x\")), W\"Times\"(7680, W\"Power\"(W\"x\", 3), W\"Power\"(W\"Plus\"(1, W\"Power\"(W\"x\", 2)), -5), W\"ArcTan\"(W\"x\")), W\"Times\"(-1440, W\"x\", W\"Power\"(W\"Plus\"(1, W\"Power\"(W\"x\", 2)), -4), W\"ArcTan\"(W\"x\")))"
      ]
     },
     "metadata": {},
     "output_type": "display_data"
    }
   ],
   "source": [
    "weval(W`D[(ArcTan[x])^2,{x,6}]`)"
   ]
  },
  {
   "cell_type": "code",
   "execution_count": 38,
   "metadata": {},
   "outputs": [
    {
     "data": {
      "text/latex": [
       "$-\\frac{15456 x}{\\left(x^2+1\\right)^5}+\\frac{34560 x^2 \\tan ^{-1}(x)}{\\left(x^2+1\\right)^5}-\\frac{1440 \\tan ^{-1}(x)}{\\left(x^2+1\\right)^4}+\\frac{92160 x^6 \\tan ^{-1}(x)}{\\left(x^2+1\\right)^7}-\\frac{112896 x^5}{\\left(x^2+1\\right)^7}-\\frac{115200 x^4 \\tan ^{-1}(x)}{\\left(x^2+1\\right)^6}+\\frac{98112 x^3}{\\left(x^2+1\\right)^6}$"
      ],
      "text/plain": [
       "W\"Plus\"(W\"Times\"(-112896, W\"Power\"(W\"x\", 5), W\"Power\"(W\"Plus\"(1, W\"Power\"(W\"x\", 2)), -7)), W\"Times\"(98112, W\"Power\"(W\"x\", 3), W\"Power\"(W\"Plus\"(1, W\"Power\"(W\"x\", 2)), -6)), W\"Times\"(-15456, W\"x\", W\"Power\"(W\"Plus\"(1, W\"Power\"(W\"x\", 2)), -5)), W\"Times\"(92160, W\"Power\"(W\"x\", 6), W\"Power\"(W\"Plus\"(1, W\"Power\"(W\"x\", 2)), -7), W\"ArcTan\"(W\"x\")), W\"Times\"(-115200, W\"Power\"(W\"x\", 4), W\"Power\"(W\"Plus\"(1, W\"Power\"(W\"x\", 2)), -6), W\"ArcTan\"(W\"x\")), W\"Times\"(34560, W\"Power\"(W\"x\", 2), W\"Power\"(W\"Plus\"(1, W\"Power\"(W\"x\", 2)), -5), W\"ArcTan\"(W\"x\")), W\"Times\"(-1440, W\"Power\"(W\"Plus\"(1, W\"Power\"(W\"x\", 2)), -4), W\"ArcTan\"(W\"x\")))"
      ]
     },
     "metadata": {},
     "output_type": "display_data"
    }
   ],
   "source": [
    "weval(W`D[(ArcTan[x])^2,{x,7}]`)"
   ]
  },
  {
   "cell_type": "code",
   "execution_count": 39,
   "metadata": {},
   "outputs": [
    {
     "data": {
      "text/latex": [
       "$\\frac{483456 x^2}{\\left(x^2+1\\right)^6}-\\frac{16896}{\\left(x^2+1\\right)^5}+\\frac{80640 x \\tan ^{-1}(x)}{\\left(x^2+1\\right)^5}-\\frac{1290240 x^7 \\tan ^{-1}(x)}{\\left(x^2+1\\right)^8}+\\frac{1672704 x^6}{\\left(x^2+1\\right)^8}+\\frac{1935360 x^5 \\tan ^{-1}(x)}{\\left(x^2+1\\right)^7}-\\frac{1857024 x^4}{\\left(x^2+1\\right)^7}-\\frac{806400 x^3 \\tan ^{-1}(x)}{\\left(x^2+1\\right)^6}$"
      ],
      "text/plain": [
       "W\"Plus\"(W\"Times\"(1672704, W\"Power\"(W\"x\", 6), W\"Power\"(W\"Plus\"(1, W\"Power\"(W\"x\", 2)), -8)), W\"Times\"(-1857024, W\"Power\"(W\"x\", 4), W\"Power\"(W\"Plus\"(1, W\"Power\"(W\"x\", 2)), -7)), W\"Times\"(483456, W\"Power\"(W\"x\", 2), W\"Power\"(W\"Plus\"(1, W\"Power\"(W\"x\", 2)), -6)), W\"Times\"(-16896, W\"Power\"(W\"Plus\"(1, W\"Power\"(W\"x\", 2)), -5)), W\"Times\"(-1290240, W\"Power\"(W\"x\", 7), W\"Power\"(W\"Plus\"(1, W\"Power\"(W\"x\", 2)), -8), W\"ArcTan\"(W\"x\")), W\"Times\"(1935360, W\"Power\"(W\"x\", 5), W\"Power\"(W\"Plus\"(1, W\"Power\"(W\"x\", 2)), -7), W\"ArcTan\"(W\"x\")), W\"Times\"(-806400, W\"Power\"(W\"x\", 3), W\"Power\"(W\"Plus\"(1, W\"Power\"(W\"x\", 2)), -6), W\"ArcTan\"(W\"x\")), W\"Times\"(80640, W\"x\", W\"Power\"(W\"Plus\"(1, W\"Power\"(W\"x\", 2)), -5), W\"ArcTan\"(W\"x\")))"
      ]
     },
     "metadata": {},
     "output_type": "display_data"
    }
   ],
   "source": [
    "weval(W`D[(ArcTan[x])^2,{x,8}]`)"
   ]
  },
  {
   "cell_type": "code",
   "execution_count": 40,
   "metadata": {},
   "outputs": [
    {
     "data": {
      "text/latex": [
       "$\\frac{1216512 x}{\\left(x^2+1\\right)^6}-\\frac{3225600 x^2 \\tan ^{-1}(x)}{\\left(x^2+1\\right)^6}+\\frac{80640 \\tan ^{-1}(x)}{\\left(x^2+1\\right)^5}+\\frac{20643840 x^8 \\tan ^{-1}(x)}{\\left(x^2+1\\right)^9}-\\frac{28053504 x^7}{\\left(x^2+1\\right)^9}-\\frac{36126720 x^6 \\tan ^{-1}(x)}{\\left(x^2+1\\right)^8}+\\frac{37969920 x^5}{\\left(x^2+1\\right)^8}+\\frac{19353600 x^4 \\tan ^{-1}(x)}{\\left(x^2+1\\right)^7}-\\frac{14035968 x^3}{\\left(x^2+1\\right)^7}$"
      ],
      "text/plain": [
       "W\"Plus\"(W\"Times\"(-28053504, W\"Power\"(W\"x\", 7), W\"Power\"(W\"Plus\"(1, W\"Power\"(W\"x\", 2)), -9)), W\"Times\"(37969920, W\"Power\"(W\"x\", 5), W\"Power\"(W\"Plus\"(1, W\"Power\"(W\"x\", 2)), -8)), W\"Times\"(-14035968, W\"Power\"(W\"x\", 3), W\"Power\"(W\"Plus\"(1, W\"Power\"(W\"x\", 2)), -7)), W\"Times\"(1216512, W\"x\", W\"Power\"(W\"Plus\"(1, W\"Power\"(W\"x\", 2)), -6)), W\"Times\"(20643840, W\"Power\"(W\"x\", 8), W\"Power\"(W\"Plus\"(1, W\"Power\"(W\"x\", 2)), -9), W\"ArcTan\"(W\"x\")), W\"Times\"(-36126720, W\"Power\"(W\"x\", 6), W\"Power\"(W\"Plus\"(1, W\"Power\"(W\"x\", 2)), -8), W\"ArcTan\"(W\"x\")), W\"Times\"(19353600, W\"Power\"(W\"x\", 4), W\"Power\"(W\"Plus\"(1, W\"Power\"(W\"x\", 2)), -7), W\"ArcTan\"(W\"x\")), W\"Times\"(-3225600, W\"Power\"(W\"x\", 2), W\"Power\"(W\"Plus\"(1, W\"Power\"(W\"x\", 2)), -6), W\"ArcTan\"(W\"x\")), W\"Times\"(80640, W\"Power\"(W\"Plus\"(1, W\"Power\"(W\"x\", 2)), -5), W\"ArcTan\"(W\"x\")))"
      ]
     },
     "metadata": {},
     "output_type": "display_data"
    }
   ],
   "source": [
    "weval(W`D[(ArcTan[x])^2,{x,9}]`)"
   ]
  },
  {
   "cell_type": "code",
   "execution_count": 41,
   "metadata": {},
   "outputs": [
    {
     "data": {
      "text/latex": [
       "$-\\frac{59931648 x^2}{\\left(x^2+1\\right)^7}+\\frac{1297152}{\\left(x^2+1\\right)^6}-\\frac{7257600 x \\tan ^{-1}(x)}{\\left(x^2+1\\right)^6}-\\frac{371589120 x^9 \\tan ^{-1}(x)}{\\left(x^2+1\\right)^{10}}+\\frac{525606912 x^8}{\\left(x^2+1\\right)^{10}}+\\frac{743178240 x^7 \\tan ^{-1}(x)}{\\left(x^2+1\\right)^9}-\\frac{840019968 x^6}{\\left(x^2+1\\right)^9}-\\frac{487710720 x^5 \\tan ^{-1}(x)}{\\left(x^2+1\\right)^8}+\\frac{405706752 x^4}{\\left(x^2+1\\right)^8}+\\frac{116121600 x^3 \\tan ^{-1}(x)}{\\left(x^2+1\\right)^7}$"
      ],
      "text/plain": [
       "W\"Plus\"(W\"Times\"(525606912, W\"Power\"(W\"x\", 8), W\"Power\"(W\"Plus\"(1, W\"Power\"(W\"x\", 2)), -10)), W\"Times\"(-840019968, W\"Power\"(W\"x\", 6), W\"Power\"(W\"Plus\"(1, W\"Power\"(W\"x\", 2)), -9)), W\"Times\"(405706752, W\"Power\"(W\"x\", 4), W\"Power\"(W\"Plus\"(1, W\"Power\"(W\"x\", 2)), -8)), W\"Times\"(-59931648, W\"Power\"(W\"x\", 2), W\"Power\"(W\"Plus\"(1, W\"Power\"(W\"x\", 2)), -7)), W\"Times\"(1297152, W\"Power\"(W\"Plus\"(1, W\"Power\"(W\"x\", 2)), -6)), W\"Times\"(-371589120, W\"Power\"(W\"x\", 9), W\"Power\"(W\"Plus\"(1, W\"Power\"(W\"x\", 2)), -10), W\"ArcTan\"(W\"x\")), W\"Times\"(743178240, W\"Power\"(W\"x\", 7), W\"Power\"(W\"Plus\"(1, W\"Power\"(W\"x\", 2)), -9), W\"ArcTan\"(W\"x\")), W\"Times\"(-487710720, W\"Power\"(W\"x\", 5), W\"Power\"(W\"Plus\"(1, W\"Power\"(W\"x\", 2)), -8), W\"ArcTan\"(W\"x\")), W\"Times\"(116121600, W\"Power\"(W\"x\", 3), W\"Power\"(W\"Plus\"(1, W\"Power\"(W\"x\", 2)), -7), W\"ArcTan\"(W\"x\")), W\"Times\"(-7257600, W\"x\", W\"Power\"(W\"Plus\"(1, W\"Power\"(W\"x\", 2)), -6), W\"ArcTan\"(W\"x\")))"
      ]
     },
     "metadata": {},
     "output_type": "display_data"
    }
   ],
   "source": [
    "weval(W`D[(ArcTan[x])^2,{x,10}]`)"
   ]
  },
  {
   "cell_type": "code",
   "execution_count": 25,
   "metadata": {},
   "outputs": [
    {
     "data": {
      "text/plain": [
       "0"
      ]
     },
     "metadata": {},
     "output_type": "display_data"
    }
   ],
   "source": [
    "weval(W`SeriesCoefficient[(ArcTan[x])^2, {x, 0, 1}]`)"
   ]
  },
  {
   "cell_type": "code",
   "execution_count": 26,
   "metadata": {},
   "outputs": [
    {
     "data": {
      "text/plain": [
       "1"
      ]
     },
     "metadata": {},
     "output_type": "display_data"
    }
   ],
   "source": [
    "weval(W`SeriesCoefficient[(ArcTan[x])^2, {x, 0, 2}]`)"
   ]
  },
  {
   "cell_type": "code",
   "execution_count": 27,
   "metadata": {},
   "outputs": [
    {
     "data": {
      "text/plain": [
       "0"
      ]
     },
     "metadata": {},
     "output_type": "display_data"
    }
   ],
   "source": [
    "weval(W`SeriesCoefficient[(ArcTan[x])^2, {x, 0, 3}]`)"
   ]
  },
  {
   "cell_type": "code",
   "execution_count": 28,
   "metadata": {},
   "outputs": [
    {
     "data": {
      "text/latex": [
       "$-\\frac{2}{3}$"
      ],
      "text/plain": [
       "W\"Rational\"(-2, 3)"
      ]
     },
     "metadata": {},
     "output_type": "display_data"
    }
   ],
   "source": [
    "weval(W`SeriesCoefficient[(ArcTan[x])^2, {x, 0, 4}]`)"
   ]
  },
  {
   "cell_type": "code",
   "execution_count": 29,
   "metadata": {},
   "outputs": [
    {
     "data": {
      "text/latex": [
       "$\\frac{23}{45}$"
      ],
      "text/plain": [
       "W\"Rational\"(23, 45)"
      ]
     },
     "metadata": {},
     "output_type": "display_data"
    }
   ],
   "source": [
    "weval(W`SeriesCoefficient[(ArcTan[x])^2, {x, 0, 6}]`)"
   ]
  },
  {
   "cell_type": "code",
   "execution_count": 30,
   "metadata": {},
   "outputs": [
    {
     "data": {
      "text/latex": [
       "$-\\frac{44}{105}$"
      ],
      "text/plain": [
       "W\"Rational\"(-44, 105)"
      ]
     },
     "metadata": {},
     "output_type": "display_data"
    }
   ],
   "source": [
    "weval(W`SeriesCoefficient[(ArcTan[x])^2, {x, 0, 8}]`)"
   ]
  },
  {
   "cell_type": "code",
   "execution_count": 31,
   "metadata": {},
   "outputs": [
    {
     "data": {
      "text/latex": [
       "$\\frac{563}{1575}$"
      ],
      "text/plain": [
       "W\"Rational\"(563, 1575)"
      ]
     },
     "metadata": {},
     "output_type": "display_data"
    }
   ],
   "source": [
    "weval(W`SeriesCoefficient[(ArcTan[x])^2, {x, 0, 10}]`)"
   ]
  }
 ],
 "metadata": {
  "kernelspec": {
   "display_name": "Julia 1.7.2",
   "language": "julia",
   "name": "julia-1.7"
  },
  "language_info": {
   "file_extension": ".jl",
   "mimetype": "application/julia",
   "name": "julia",
   "version": "1.7.2"
  },
  "orig_nbformat": 4
 },
 "nbformat": 4,
 "nbformat_minor": 2
}
