{
 "cells": [
  {
   "cell_type": "code",
   "execution_count": 42,
   "metadata": {},
   "outputs": [
    {
     "data": {
      "text/latex": [
       "$\\frac{2 \\sin ^{-1}(x)}{\\sqrt{1-x^2}}$"
      ],
      "text/plain": [
       "W\"Times\"(2, W\"Power\"(W\"Plus\"(1, W\"Times\"(-1, W\"Power\"(W\"x\", 2))), W\"Rational\"(-1, 2)), W\"ArcSin\"(W\"x\"))"
      ]
     },
     "metadata": {},
     "output_type": "display_data"
    }
   ],
   "source": [
    "using MathLink,MathLinkExtras\n",
    "\n",
    "    weval(W`D[(ArcSin[x])^2,{x,1}]`)\n",
    "    "
   ]
  },
  {
   "cell_type": "code",
   "execution_count": 43,
   "metadata": {},
   "outputs": [
    {
     "data": {
      "text/latex": [
       "$\\frac{2}{1-x^2}+\\frac{2 x \\sin ^{-1}(x)}{\\left(1-x^2\\right)^{3/2}}$"
      ],
      "text/plain": [
       "W\"Plus\"(W\"Times\"(2, W\"Power\"(W\"Plus\"(1, W\"Times\"(-1, W\"Power\"(W\"x\", 2))), -1)), W\"Times\"(2, W\"x\", W\"Power\"(W\"Plus\"(1, W\"Times\"(-1, W\"Power\"(W\"x\", 2))), W\"Rational\"(-3, 2)), W\"ArcSin\"(W\"x\")))"
      ]
     },
     "metadata": {},
     "output_type": "display_data"
    }
   ],
   "source": [
    "weval(W`D[(ArcSin[x])^2,{x,2}]`)"
   ]
  },
  {
   "cell_type": "code",
   "execution_count": 44,
   "metadata": {},
   "outputs": [
    {
     "data": {
      "text/latex": [
       "$\\frac{6 x}{\\left(1-x^2\\right)^2}+\\frac{6 x^2 \\sin ^{-1}(x)}{\\left(1-x^2\\right)^{5/2}}+\\frac{2 \\sin ^{-1}(x)}{\\left(1-x^2\\right)^{3/2}}$"
      ],
      "text/plain": [
       "W\"Plus\"(W\"Times\"(6, W\"x\", W\"Power\"(W\"Plus\"(1, W\"Times\"(-1, W\"Power\"(W\"x\", 2))), -2)), W\"Times\"(6, W\"Power\"(W\"x\", 2), W\"Power\"(W\"Plus\"(1, W\"Times\"(-1, W\"Power\"(W\"x\", 2))), W\"Rational\"(-5, 2)), W\"ArcSin\"(W\"x\")), W\"Times\"(2, W\"Power\"(W\"Plus\"(1, W\"Times\"(-1, W\"Power\"(W\"x\", 2))), W\"Rational\"(-3, 2)), W\"ArcSin\"(W\"x\")))"
      ]
     },
     "metadata": {},
     "output_type": "display_data"
    }
   ],
   "source": [
    "weval(W`D[(ArcSin[x])^2,{x,3}]`)"
   ]
  },
  {
   "cell_type": "code",
   "execution_count": 45,
   "metadata": {},
   "outputs": [
    {
     "data": {
      "text/latex": [
       "$\\frac{30 x^2}{\\left(1-x^2\\right)^3}+\\frac{8}{\\left(1-x^2\\right)^2}+\\frac{18 x \\sin ^{-1}(x)}{\\left(1-x^2\\right)^{5/2}}+\\frac{30 x^3 \\sin ^{-1}(x)}{\\left(1-x^2\\right)^{7/2}}$"
      ],
      "text/plain": [
       "W\"Plus\"(W\"Times\"(30, W\"Power\"(W\"x\", 2), W\"Power\"(W\"Plus\"(1, W\"Times\"(-1, W\"Power\"(W\"x\", 2))), -3)), W\"Times\"(8, W\"Power\"(W\"Plus\"(1, W\"Times\"(-1, W\"Power\"(W\"x\", 2))), -2)), W\"Times\"(30, W\"Power\"(W\"x\", 3), W\"Power\"(W\"Plus\"(1, W\"Times\"(-1, W\"Power\"(W\"x\", 2))), W\"Rational\"(-7, 2)), W\"ArcSin\"(W\"x\")), W\"Times\"(18, W\"x\", W\"Power\"(W\"Plus\"(1, W\"Times\"(-1, W\"Power\"(W\"x\", 2))), W\"Rational\"(-5, 2)), W\"ArcSin\"(W\"x\")))"
      ]
     },
     "metadata": {},
     "output_type": "display_data"
    }
   ],
   "source": [
    "weval(W`D[(ArcSin[x])^2,{x,4}]`)"
   ]
  },
  {
   "cell_type": "code",
   "execution_count": 46,
   "metadata": {},
   "outputs": [
    {
     "data": {
      "text/latex": [
       "$\\frac{110 x}{\\left(1-x^2\\right)^3}+\\frac{180 x^2 \\sin ^{-1}(x)}{\\left(1-x^2\\right)^{7/2}}+\\frac{18 \\sin ^{-1}(x)}{\\left(1-x^2\\right)^{5/2}}+\\frac{210 x^4 \\sin ^{-1}(x)}{\\left(1-x^2\\right)^{9/2}}+\\frac{210 x^3}{\\left(1-x^2\\right)^4}$"
      ],
      "text/plain": [
       "W\"Plus\"(W\"Times\"(210, W\"Power\"(W\"x\", 3), W\"Power\"(W\"Plus\"(1, W\"Times\"(-1, W\"Power\"(W\"x\", 2))), -4)), W\"Times\"(110, W\"x\", W\"Power\"(W\"Plus\"(1, W\"Times\"(-1, W\"Power\"(W\"x\", 2))), -3)), W\"Times\"(210, W\"Power\"(W\"x\", 4), W\"Power\"(W\"Plus\"(1, W\"Times\"(-1, W\"Power\"(W\"x\", 2))), W\"Rational\"(-9, 2)), W\"ArcSin\"(W\"x\")), W\"Times\"(180, W\"Power\"(W\"x\", 2), W\"Power\"(W\"Plus\"(1, W\"Times\"(-1, W\"Power\"(W\"x\", 2))), W\"Rational\"(-7, 2)), W\"ArcSin\"(W\"x\")), W\"Times\"(18, W\"Power\"(W\"Plus\"(1, W\"Times\"(-1, W\"Power\"(W\"x\", 2))), W\"Rational\"(-5, 2)), W\"ArcSin\"(W\"x\")))"
      ]
     },
     "metadata": {},
     "output_type": "display_data"
    }
   ],
   "source": [
    "weval(W`D[(ArcSin[x])^2,{x,5}]`)"
   ]
  },
  {
   "cell_type": "code",
   "execution_count": 47,
   "metadata": {},
   "outputs": [
    {
     "data": {
      "text/latex": [
       "$\\frac{1470 x^2}{\\left(1-x^2\\right)^4}+\\frac{128}{\\left(1-x^2\\right)^3}+\\frac{450 x \\sin ^{-1}(x)}{\\left(1-x^2\\right)^{7/2}}+\\frac{1890 x^5 \\sin ^{-1}(x)}{\\left(1-x^2\\right)^{11/2}}+\\frac{1890 x^4}{\\left(1-x^2\\right)^5}+\\frac{2100 x^3 \\sin ^{-1}(x)}{\\left(1-x^2\\right)^{9/2}}$"
      ],
      "text/plain": [
       "W\"Plus\"(W\"Times\"(1890, W\"Power\"(W\"x\", 4), W\"Power\"(W\"Plus\"(1, W\"Times\"(-1, W\"Power\"(W\"x\", 2))), -5)), W\"Times\"(1470, W\"Power\"(W\"x\", 2), W\"Power\"(W\"Plus\"(1, W\"Times\"(-1, W\"Power\"(W\"x\", 2))), -4)), W\"Times\"(128, W\"Power\"(W\"Plus\"(1, W\"Times\"(-1, W\"Power\"(W\"x\", 2))), -3)), W\"Times\"(1890, W\"Power\"(W\"x\", 5), W\"Power\"(W\"Plus\"(1, W\"Times\"(-1, W\"Power\"(W\"x\", 2))), W\"Rational\"(-11, 2)), W\"ArcSin\"(W\"x\")), W\"Times\"(2100, W\"Power\"(W\"x\", 3), W\"Power\"(W\"Plus\"(1, W\"Times\"(-1, W\"Power\"(W\"x\", 2))), W\"Rational\"(-9, 2)), W\"ArcSin\"(W\"x\")), W\"Times\"(450, W\"x\", W\"Power\"(W\"Plus\"(1, W\"Times\"(-1, W\"Power\"(W\"x\", 2))), W\"Rational\"(-7, 2)), W\"ArcSin\"(W\"x\")))"
      ]
     },
     "metadata": {},
     "output_type": "display_data"
    }
   ],
   "source": [
    "weval(W`D[(ArcSin[x])^2,{x,6}]`)"
   ]
  },
  {
   "cell_type": "code",
   "execution_count": 48,
   "metadata": {},
   "outputs": [
    {
     "data": {
      "text/latex": [
       "$\\frac{4158 x}{\\left(1-x^2\\right)^4}+\\frac{9450 x^2 \\sin ^{-1}(x)}{\\left(1-x^2\\right)^{9/2}}+\\frac{450 \\sin ^{-1}(x)}{\\left(1-x^2\\right)^{7/2}}+\\frac{20790 x^6 \\sin ^{-1}(x)}{\\left(1-x^2\\right)^{13/2}}+\\frac{20790 x^5}{\\left(1-x^2\\right)^6}+\\frac{28350 x^4 \\sin ^{-1}(x)}{\\left(1-x^2\\right)^{11/2}}+\\frac{21420 x^3}{\\left(1-x^2\\right)^5}$"
      ],
      "text/plain": [
       "W\"Plus\"(W\"Times\"(20790, W\"Power\"(W\"x\", 5), W\"Power\"(W\"Plus\"(1, W\"Times\"(-1, W\"Power\"(W\"x\", 2))), -6)), W\"Times\"(21420, W\"Power\"(W\"x\", 3), W\"Power\"(W\"Plus\"(1, W\"Times\"(-1, W\"Power\"(W\"x\", 2))), -5)), W\"Times\"(4158, W\"x\", W\"Power\"(W\"Plus\"(1, W\"Times\"(-1, W\"Power\"(W\"x\", 2))), -4)), W\"Times\"(20790, W\"Power\"(W\"x\", 6), W\"Power\"(W\"Plus\"(1, W\"Times\"(-1, W\"Power\"(W\"x\", 2))), W\"Rational\"(-13, 2)), W\"ArcSin\"(W\"x\")), W\"Times\"(28350, W\"Power\"(W\"x\", 4), W\"Power\"(W\"Plus\"(1, W\"Times\"(-1, W\"Power\"(W\"x\", 2))), W\"Rational\"(-11, 2)), W\"ArcSin\"(W\"x\")), W\"Times\"(9450, W\"Power\"(W\"x\", 2), W\"Power\"(W\"Plus\"(1, W\"Times\"(-1, W\"Power\"(W\"x\", 2))), W\"Rational\"(-9, 2)), W\"ArcSin\"(W\"x\")), W\"Times\"(450, W\"Power\"(W\"Plus\"(1, W\"Times\"(-1, W\"Power\"(W\"x\", 2))), W\"Rational\"(-7, 2)), W\"ArcSin\"(W\"x\")))"
      ]
     },
     "metadata": {},
     "output_type": "display_data"
    }
   ],
   "source": [
    "weval(W`D[(ArcSin[x])^2,{x,7}]`)"
   ]
  },
  {
   "cell_type": "code",
   "execution_count": 49,
   "metadata": {},
   "outputs": [
    {
     "data": {
      "text/latex": [
       "$\\frac{106974 x^2}{\\left(1-x^2\\right)^5}+\\frac{4608}{\\left(1-x^2\\right)^4}+\\frac{22050 x \\sin ^{-1}(x)}{\\left(1-x^2\\right)^{9/2}}+\\frac{270270 x^7 \\sin ^{-1}(x)}{\\left(1-x^2\\right)^{15/2}}+\\frac{270270 x^6}{\\left(1-x^2\\right)^7}+\\frac{436590 x^5 \\sin ^{-1}(x)}{\\left(1-x^2\\right)^{13/2}}+\\frac{346500 x^4}{\\left(1-x^2\\right)^6}+\\frac{198450 x^3 \\sin ^{-1}(x)}{\\left(1-x^2\\right)^{11/2}}$"
      ],
      "text/plain": [
       "W\"Plus\"(W\"Times\"(270270, W\"Power\"(W\"x\", 6), W\"Power\"(W\"Plus\"(1, W\"Times\"(-1, W\"Power\"(W\"x\", 2))), -7)), W\"Times\"(346500, W\"Power\"(W\"x\", 4), W\"Power\"(W\"Plus\"(1, W\"Times\"(-1, W\"Power\"(W\"x\", 2))), -6)), W\"Times\"(106974, W\"Power\"(W\"x\", 2), W\"Power\"(W\"Plus\"(1, W\"Times\"(-1, W\"Power\"(W\"x\", 2))), -5)), W\"Times\"(4608, W\"Power\"(W\"Plus\"(1, W\"Times\"(-1, W\"Power\"(W\"x\", 2))), -4)), W\"Times\"(270270, W\"Power\"(W\"x\", 7), W\"Power\"(W\"Plus\"(1, W\"Times\"(-1, W\"Power\"(W\"x\", 2))), W\"Rational\"(-15, 2)), W\"ArcSin\"(W\"x\")), W\"Times\"(436590, W\"Power\"(W\"x\", 5), W\"Power\"(W\"Plus\"(1, W\"Times\"(-1, W\"Power\"(W\"x\", 2))), W\"Rational\"(-13, 2)), W\"ArcSin\"(W\"x\")), W\"Times\"(198450, W\"Power\"(W\"x\", 3), W\"Power\"(W\"Plus\"(1, W\"Times\"(-1, W\"Power\"(W\"x\", 2))), W\"Rational\"(-11, 2)), W\"ArcSin\"(W\"x\")), W\"Times\"(22050, W\"x\", W\"Power\"(W\"Plus\"(1, W\"Times\"(-1, W\"Power\"(W\"x\", 2))), W\"Rational\"(-9, 2)), W\"ArcSin\"(W\"x\")))"
      ]
     },
     "metadata": {},
     "output_type": "display_data"
    }
   ],
   "source": [
    "weval(W`D[(ArcSin[x])^2,{x,8}]`)"
   ]
  },
  {
   "cell_type": "code",
   "execution_count": 50,
   "metadata": {},
   "outputs": [
    {
     "data": {
      "text/latex": [
       "$\\frac{272862 x}{\\left(1-x^2\\right)^5}+\\frac{793800 x^2 \\sin ^{-1}(x)}{\\left(1-x^2\\right)^{11/2}}+\\frac{22050 \\sin ^{-1}(x)}{\\left(1-x^2\\right)^{9/2}}+\\frac{4054050 x^8 \\sin ^{-1}(x)}{\\left(1-x^2\\right)^{17/2}}+\\frac{4054050 x^7}{\\left(1-x^2\\right)^8}+\\frac{7567560 x^6 \\sin ^{-1}(x)}{\\left(1-x^2\\right)^{15/2}}+\\frac{6216210 x^5}{\\left(1-x^2\\right)^7}+\\frac{4365900 x^4 \\sin ^{-1}(x)}{\\left(1-x^2\\right)^{13/2}}+\\frac{2654190 x^3}{\\left(1-x^2\\right)^6}$"
      ],
      "text/plain": [
       "W\"Plus\"(W\"Times\"(4054050, W\"Power\"(W\"x\", 7), W\"Power\"(W\"Plus\"(1, W\"Times\"(-1, W\"Power\"(W\"x\", 2))), -8)), W\"Times\"(6216210, W\"Power\"(W\"x\", 5), W\"Power\"(W\"Plus\"(1, W\"Times\"(-1, W\"Power\"(W\"x\", 2))), -7)), W\"Times\"(2654190, W\"Power\"(W\"x\", 3), W\"Power\"(W\"Plus\"(1, W\"Times\"(-1, W\"Power\"(W\"x\", 2))), -6)), W\"Times\"(272862, W\"x\", W\"Power\"(W\"Plus\"(1, W\"Times\"(-1, W\"Power\"(W\"x\", 2))), -5)), W\"Times\"(4054050, W\"Power\"(W\"x\", 8), W\"Power\"(W\"Plus\"(1, W\"Times\"(-1, W\"Power\"(W\"x\", 2))), W\"Rational\"(-17, 2)), W\"ArcSin\"(W\"x\")), W\"Times\"(7567560, W\"Power\"(W\"x\", 6), W\"Power\"(W\"Plus\"(1, W\"Times\"(-1, W\"Power\"(W\"x\", 2))), W\"Rational\"(-15, 2)), W\"ArcSin\"(W\"x\")), W\"Times\"(4365900, W\"Power\"(W\"x\", 4), W\"Power\"(W\"Plus\"(1, W\"Times\"(-1, W\"Power\"(W\"x\", 2))), W\"Rational\"(-13, 2)), W\"ArcSin\"(W\"x\")), W\"Times\"(793800, W\"Power\"(W\"x\", 2), W\"Power\"(W\"Plus\"(1, W\"Times\"(-1, W\"Power\"(W\"x\", 2))), W\"Rational\"(-11, 2)), W\"ArcSin\"(W\"x\")), W\"Times\"(22050, W\"Power\"(W\"Plus\"(1, W\"Times\"(-1, W\"Power\"(W\"x\", 2))), W\"Rational\"(-9, 2)), W\"ArcSin\"(W\"x\")))"
      ]
     },
     "metadata": {},
     "output_type": "display_data"
    }
   ],
   "source": [
    "weval(W`D[(ArcSin[x])^2,{x,9}]`)"
   ]
  },
  {
   "cell_type": "code",
   "execution_count": 51,
   "metadata": {},
   "outputs": [
    {
     "data": {
      "text/latex": [
       "$\\frac{11484990 x^2}{\\left(1-x^2\\right)^6}+\\frac{294912}{\\left(1-x^2\\right)^5}+\\frac{1786050 x \\sin ^{-1}(x)}{\\left(1-x^2\\right)^{11/2}}+\\frac{68918850 x^9 \\sin ^{-1}(x)}{\\left(1-x^2\\right)^{19/2}}+\\frac{68918850 x^8}{\\left(1-x^2\\right)^9}+\\frac{145945800 x^7 \\sin ^{-1}(x)}{\\left(1-x^2\\right)^{17/2}}+\\frac{122972850 x^6}{\\left(1-x^2\\right)^8}+\\frac{102162060 x^5 \\sin ^{-1}(x)}{\\left(1-x^2\\right)^{15/2}}+\\frac{67297230 x^4}{\\left(1-x^2\\right)^7}+\\frac{26195400 x^3 \\sin ^{-1}(x)}{\\left(1-x^2\\right)^{13/2}}$"
      ],
      "text/plain": [
       "W\"Plus\"(W\"Times\"(68918850, W\"Power\"(W\"x\", 8), W\"Power\"(W\"Plus\"(1, W\"Times\"(-1, W\"Power\"(W\"x\", 2))), -9)), W\"Times\"(122972850, W\"Power\"(W\"x\", 6), W\"Power\"(W\"Plus\"(1, W\"Times\"(-1, W\"Power\"(W\"x\", 2))), -8)), W\"Times\"(67297230, W\"Power\"(W\"x\", 4), W\"Power\"(W\"Plus\"(1, W\"Times\"(-1, W\"Power\"(W\"x\", 2))), -7)), W\"Times\"(11484990, W\"Power\"(W\"x\", 2), W\"Power\"(W\"Plus\"(1, W\"Times\"(-1, W\"Power\"(W\"x\", 2))), -6)), W\"Times\"(294912, W\"Power\"(W\"Plus\"(1, W\"Times\"(-1, W\"Power\"(W\"x\", 2))), -5)), W\"Times\"(68918850, W\"Power\"(W\"x\", 9), W\"Power\"(W\"Plus\"(1, W\"Times\"(-1, W\"Power\"(W\"x\", 2))), W\"Rational\"(-19, 2)), W\"ArcSin\"(W\"x\")), W\"Times\"(145945800, W\"Power\"(W\"x\", 7), W\"Power\"(W\"Plus\"(1, W\"Times\"(-1, W\"Power\"(W\"x\", 2))), W\"Rational\"(-17, 2)), W\"ArcSin\"(W\"x\")), W\"Times\"(102162060, W\"Power\"(W\"x\", 5), W\"Power\"(W\"Plus\"(1, W\"Times\"(-1, W\"Power\"(W\"x\", 2))), W\"Rational\"(-15, 2)), W\"ArcSin\"(W\"x\")), W\"Times\"(26195400, W\"Power\"(W\"x\", 3), W\"Power\"(W\"Plus\"(1, W\"Times\"(-1, W\"Power\"(W\"x\", 2))), W\"Rational\"(-13, 2)), W\"ArcSin\"(W\"x\")), W\"Times\"(1786050, W\"x\", W\"Power\"(W\"Plus\"(1, W\"Times\"(-1, W\"Power\"(W\"x\", 2))), W\"Rational\"(-11, 2)), W\"ArcSin\"(W\"x\")))"
      ]
     },
     "metadata": {},
     "output_type": "display_data"
    }
   ],
   "source": [
    "weval(W`D[(ArcSin[x])^2,{x,10}]`)"
   ]
  },
  {
   "cell_type": "code",
   "execution_count": 52,
   "metadata": {},
   "outputs": [
    {
     "data": {
      "text/plain": [
       "0"
      ]
     },
     "metadata": {},
     "output_type": "display_data"
    }
   ],
   "source": [
    "weval(W`SeriesCoefficient[(ArcSin[x])^2, {x, 0, 1}]`)"
   ]
  },
  {
   "cell_type": "code",
   "execution_count": 53,
   "metadata": {},
   "outputs": [
    {
     "data": {
      "text/plain": [
       "1"
      ]
     },
     "metadata": {},
     "output_type": "display_data"
    }
   ],
   "source": [
    "weval(W`SeriesCoefficient[(ArcSin[x])^2, {x, 0, 2}]`)"
   ]
  },
  {
   "cell_type": "code",
   "execution_count": 54,
   "metadata": {},
   "outputs": [
    {
     "data": {
      "text/plain": [
       "0"
      ]
     },
     "metadata": {},
     "output_type": "display_data"
    }
   ],
   "source": [
    "weval(W`SeriesCoefficient[(ArcSin[x])^2, {x, 0, 3}]`)"
   ]
  },
  {
   "cell_type": "code",
   "execution_count": 55,
   "metadata": {},
   "outputs": [
    {
     "data": {
      "text/latex": [
       "$\\frac{1}{3}$"
      ],
      "text/plain": [
       "W\"Rational\"(1, 3)"
      ]
     },
     "metadata": {},
     "output_type": "display_data"
    }
   ],
   "source": [
    "weval(W`SeriesCoefficient[(ArcSin[x])^2, {x, 0, 4}]`)"
   ]
  },
  {
   "cell_type": "code",
   "execution_count": 56,
   "metadata": {},
   "outputs": [
    {
     "data": {
      "text/latex": [
       "$\\frac{8}{45}$"
      ],
      "text/plain": [
       "W\"Rational\"(8, 45)"
      ]
     },
     "metadata": {},
     "output_type": "display_data"
    }
   ],
   "source": [
    "weval(W`SeriesCoefficient[(ArcSin[x])^2, {x, 0, 6}]`)"
   ]
  },
  {
   "cell_type": "code",
   "execution_count": 57,
   "metadata": {},
   "outputs": [
    {
     "data": {
      "text/latex": [
       "$\\frac{4}{35}$"
      ],
      "text/plain": [
       "W\"Rational\"(4, 35)"
      ]
     },
     "metadata": {},
     "output_type": "display_data"
    }
   ],
   "source": [
    "weval(W`SeriesCoefficient[(ArcSin[x])^2, {x, 0, 8}]`)"
   ]
  },
  {
   "cell_type": "code",
   "execution_count": 58,
   "metadata": {},
   "outputs": [
    {
     "data": {
      "text/latex": [
       "$\\frac{128}{1575}$"
      ],
      "text/plain": [
       "W\"Rational\"(128, 1575)"
      ]
     },
     "metadata": {},
     "output_type": "display_data"
    }
   ],
   "source": [
    "weval(W`SeriesCoefficient[(ArcSin[x])^2, {x, 0, 10}]`)"
   ]
  },
  {
   "cell_type": "code",
   "execution_count": null,
   "metadata": {},
   "outputs": [],
   "source": []
  }
 ],
 "metadata": {
  "kernelspec": {
   "display_name": "Julia 1.7.2",
   "language": "julia",
   "name": "julia-1.7"
  },
  "language_info": {
   "file_extension": ".jl",
   "mimetype": "application/julia",
   "name": "julia",
   "version": "1.7.2"
  },
  "orig_nbformat": 4
 },
 "nbformat": 4,
 "nbformat_minor": 2
}
